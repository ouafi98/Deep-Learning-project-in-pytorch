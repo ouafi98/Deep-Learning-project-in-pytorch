{
 "cells": [
  {
   "cell_type": "markdown",
   "metadata": {},
   "source": [
    "This tutorial is inspired by the book of François chollet based on Tensorflow and Keras API...\n",
    "\n",
    "\n",
    "Pytorch"
   ]
  },
  {
   "cell_type": "code",
   "execution_count": 1,
   "metadata": {},
   "outputs": [],
   "source": [
    "# import the necessary modules\n",
    "\n",
    "%matplotlib inline\n",
    "import torch\n",
    "from torch import nn\n",
    "from torchvision import datasets\n",
    "import matplotlib.pyplot as plt\n"
   ]
  },
  {
   "cell_type": "markdown",
   "metadata": {},
   "source": [
    "Listing 2.1 Download the MNIST dataset"
   ]
  },
  {
   "cell_type": "code",
   "execution_count": 2,
   "metadata": {},
   "outputs": [],
   "source": [
    "data_path = \"./data\"\n",
    "mnist_train = datasets.MNIST(root=data_path, train=True, download=True)\n",
    "mnist_test  = datasets.MNIST(root=data_path, train=False, download=True)"
   ]
  },
  {
   "cell_type": "markdown",
   "metadata": {},
   "source": [
    "Contrary to what you can see in the book (Listing 2.1), here the variable mnist_train contains a sort of list of tuple \n",
    "<br>\n",
    "where each tuple represents an image of a digit and its label. The same fact holds for mnist_test, but these data are \n",
    "<br>\n",
    "used only during test."
   ]
  },
  {
   "cell_type": "code",
   "execution_count": 13,
   "metadata": {},
   "outputs": [
    {
     "data": {
      "image/png": "[encoded data removed]",
      "text/plain": [
       "<Figure size 720x720 with 5 Axes>"
      ]
     },
     "metadata": {
      "needs_background": "light"
     },
     "output_type": "display_data"
    }
   ],
   "source": [
    "# for example, we will the four first sample in our training set\n",
    "\n",
    "number_sample = 4\n",
    "\n",
    "fig = plt.figure(figsize=(10,10))\n",
    "\n",
    "\n",
    "for i in range(number_sample):\n",
    "    image, label = mnist_train[i]\n",
    "    ax = fig.add_subplot(2, 2, i+1)\n",
    "    im = plt.imshow(image, cmap=\"gray\")\n",
    "    ax.set_title(\"label = \" + str(label))\n",
    "\n",
    "fig.subplots_adjust(right=0.8)\n",
    "cbar_ax = fig.add_axes([0.85, 0.15, 0.05, 0.7])\n",
    "fig.colorbar(im, cax=cbar_ax)\n",
    "\n",
    "plt.show()\n",
    "\n",
    "# see https://stackoverflow.com/questions/13784201/how-to-have-one-colorbar-for-all-subplots"
   ]
  },
  {
   "cell_type": "code",
   "execution_count": 19,
   "metadata": {},
   "outputs": [
    {
     "name": "stdout",
     "output_type": "stream",
     "text": [
      "(28, 28)\n"
     ]
    }
   ],
   "source": [
    "# images in these both training and test dataset are of size 28*28\n",
    "image, _ = mnist_train[0]\n",
    "print(image.size)"
   ]
  },
  {
   "cell_type": "markdown",
   "metadata": {},
   "source": [
    "We see that an image is for size 28 * 28, therefore if we flatten the image to feed it to our neural network (an MLP) the \n",
    "input size is 784."
   ]
  },
  {
   "cell_type": "markdown",
   "metadata": {},
   "source": [
    "Listing 2.2 The network architecture"
   ]
  },
  {
   "cell_type": "code",
   "execution_count": 21,
   "metadata": {},
   "outputs": [],
   "source": [
    "# First approach\n",
    "# in this approch you need to know the input size and ouput size of a layer of your neural network\n",
    "\n",
    "model1 = nn.Sequential(nn.Linear(784,512), nn.ReLU(), nn.Linear(512, 10), nn.Softmax(dim=1))\n",
    "\n",
    "\n",
    "# Second approach\n",
    "# in this approch you need only need to know ouput size of a layer of your neural network\n",
    "# its input size will be automatically infer by Pytorch at runtime\n",
    "\n",
    "model2 = nn.Sequential(nn.LazyLinear(512), nn.ReLU(), nn.LazyLinear(10), nn.Softmax(dim=1))\n"
   ]
  },
  {
   "cell_type": "markdown",
   "metadata": {},
   "source": [
    "Listing 2.3 compilation"
   ]
  },
  {
   "cell_type": "markdown",
   "metadata": {},
   "source": [
    "Instead of doing like in tensorflow/keras, in this we will define an optimizer, a loss function, and a metric function."
   ]
  },
  {
   "cell_type": "code",
   "execution_count": null,
   "metadata": {},
   "outputs": [],
   "source": [
    "learning_rate = 0.01\n",
    "\n",
    "optimizer = torch.optim.RMSprop(model1.parameters(), lr = learning_rate)\n",
    "\n",
    "loss_fn = nn.CrossEntropyLoss()\n",
    "\n",
    "def accuracy(y_pred, y_true):\n",
    "    \"\"\"Compute accuracy in % between the predicted labels and true lables\"\"\"\n",
    "    return (y_pred == y_true).mean() * 100"
   ]
  },
  {
   "cell_type": "markdown",
   "metadata": {},
   "source": [
    "Todo:\n",
    "- dataset with DataLoader\n",
    "- write training loop, including validation loop\n",
    "- train both model1 and model2\n",
    "- test \n"
   ]
  },
  {
   "cell_type": "code",
   "execution_count": null,
   "metadata": {},
   "outputs": [],
   "source": [
    "n_epochs = 5\n",
    "\n",
    "for epoch in range(n_epochs):\n",
    "    for data in mnist_train:\n",
    "        image, label = "
   ]
  }
 ],
 "metadata": {
  "interpreter": {
   "hash": "fa3a71979c2ffe0839fb84ebbbb973764a51c5f0f07d10fc08db76e2e51e4936"
  },
  "kernelspec": {
   "display_name": "Python 3.8.5 ('agileflight0')",
   "language": "python",
   "name": "python3"
  },
  "language_info": {
   "codemirror_mode": {
    "name": "ipython",
    "version": 3
   },
   "file_extension": ".py",
   "mimetype": "text/x-python",
   "name": "python",
   "nbconvert_exporter": "python",
   "pygments_lexer": "ipython3",
   "version": "3.8.10"
  },
  "orig_nbformat": 4
 },
 "nbformat": 4,
 "nbformat_minor": 2
}
